{
 "cells": [
  {
   "cell_type": "code",
   "execution_count": 2,
   "metadata": {},
   "outputs": [
    {
     "name": "stdout",
     "output_type": "stream",
     "text": [
      "[[0.32394308]\n",
      " [1.4731251 ]]\n"
     ]
    }
   ],
   "source": [
    "import pandas as pd\n",
    "import numpy as np \n",
    "import matplotlib.pyplot as plt \n",
    "\n",
    "#linear regression on siraj raval dataset\n",
    "data=np.genfromtxt('data.txt',delimiter=',')\n",
    "x=data[0:100,0]\n",
    "m=x\n",
    "x.reshape(1,100)\n",
    "y=data[0:100,1]\n",
    "n=y\n",
    "x0=np.ones(100)\n",
    "x0.reshape(1,100)\n",
    "y=y.reshape(100,1)\n",
    "x=np.array([x0,x])\n",
    "x=x.T\n",
    "b=np.array([0,0])\n",
    "b=b.reshape(2,1)\n",
    "\n",
    "\n",
    "alpha=0.0001\n",
    "def cost_function(x,y,b):\n",
    "    m=len(y)\n",
    "    j=np.sum((x.dot(b)-y)**2)/(2*m)\n",
    "    return j\n",
    " \n",
    "initial_cost=cost_function(x,y,b)\n",
    "\n",
    "def gradient_descent(x,y,b,alpha,iterations):\n",
    "    m=len(y)\n",
    "    cost_history=[0]*iterations\n",
    "    for iteration in range(iterations):\n",
    "            h=x.dot(b)\n",
    "            loss=h-y\n",
    "            gradient=x.T.dot(loss)/m\n",
    "            b=b-alpha*gradient\n",
    "            cost=cost_function(x,y,b)\n",
    "            cost_history[iteration]=cost\n",
    "    return b,cost_history \n",
    "\n",
    "bnew,cost_history=gradient_descent(x,y,b,alpha,10000)\n",
    "print(bnew)\n"
   ]
  },
  {
   "cell_type": "code",
   "execution_count": 14,
   "metadata": {},
   "outputs": [
    {
     "data": {
      "image/png": "[encoded data removed]",
      "text/plain": [
       "<matplotlib.figure.Figure at 0x7f4b82590400>"
      ]
     },
     "metadata": {},
     "output_type": "display_data"
    }
   ],
   "source": [
    "for i in range(100):\n",
    "    plt.scatter(m[i],n[i],color='r')\n",
    "h=bnew[0]+bnew[1]*x\n",
    "for i in m:\n",
    "    plt.plot(i,h,color='b')\n",
    "plt.show()"
   ]
  },
  {
   "cell_type": "code",
   "execution_count": null,
   "metadata": {},
   "outputs": [],
   "source": []
  }
 ],
 "metadata": {
  "kernelspec": {
   "display_name": "Python 3",
   "language": "python",
   "name": "python3"
  },
  "language_info": {
   "codemirror_mode": {
    "name": "ipython",
    "version": 3
   },
   "file_extension": ".py",
   "mimetype": "text/x-python",
   "name": "python",
   "nbconvert_exporter": "python",
   "pygments_lexer": "ipython3",
   "version": "3.6.4"
  }
 },
 "nbformat": 4,
 "nbformat_minor": 2
}
